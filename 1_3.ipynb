{
  "cells": [
    {
      "cell_type": "code",
      "execution_count": null,
      "metadata": {
        "id": "00M88C-YcRL9"
      },
      "outputs": [],
      "source": [
        "import numpy as np\n",
        "import pandas as pd\n",
        "import matplotlib.pyplot as plt\n",
        "from sklearn.datasets import load_diabetes, fetch_california_housing\n",
        "from sklearn.model_selection import train_test_split\n",
        "from sklearn.metrics import mean_squared_error\n",
        "from sklearn.svm import SVR\n",
        "from sklearn.svm import LinearSVR\n",
        "from sklearn.neighbors import KNeighborsRegressor\n",
        "from sklearn.neural_network import MLPRegressor\n",
        "from sklearn.tree import DecisionTreeRegressor\n",
        "from sklearn.ensemble import RandomForestRegressor, BaggingRegressor\n",
        "from sklearn.linear_model import Ridge, Lasso, ElasticNet, LinearRegression\n",
        "\n",
        "import warnings\n",
        "warnings.filterwarnings('ignore')"
      ]
    },
    {
      "cell_type": "markdown",
      "metadata": {
        "id": "pZc7iNqUdVZt"
      },
      "source": [
        "1. Какую еще информацию можно вывести для обученной модели? Попробуйте изменить аргументы при создании модели и посмотрите, как это влияет на качество предсказания."
      ]
    },
    {
      "cell_type": "markdown",
      "metadata": {
        "id": "uJuKbWY--1A6"
      },
      "source": [
        "Линейная регрессия"
      ]
    },
    {
      "cell_type": "code",
      "execution_count": null,
      "metadata": {
        "id": "CndTqVaK-1A6"
      },
      "outputs": [],
      "source": [
        "df = fetch_california_housing()"
      ]
    },
    {
      "cell_type": "code",
      "execution_count": null,
      "metadata": {
        "id": "5SYNr0lI-1A7"
      },
      "outputs": [],
      "source": [
        "X = pd.DataFrame(data=df.data, columns=df.feature_names)\n",
        "Y = df.target"
      ]
    },
    {
      "cell_type": "code",
      "execution_count": null,
      "metadata": {
        "id": "OePMwJ2Z-1A7"
      },
      "outputs": [],
      "source": [
        "X_train, X_test, y_train, y_test = train_test_split(X, Y, test_size=0.25, random_state=13)"
      ]
    },
    {
      "cell_type": "code",
      "execution_count": null,
      "metadata": {
        "colab": {
          "base_uri": "https://localhost:8080/"
        },
        "id": "Hq-YkzUH-1A8",
        "outputId": "fae09e7b-6e44-42da-b453-3b92e1a4bbfa"
      },
      "outputs": [
        {
          "output_type": "stream",
          "name": "stdout",
          "text": [
            "0.5361651688109041\n"
          ]
        }
      ],
      "source": [
        "model = LinearRegression()\n",
        "model.fit(X_train, y_train)\n",
        "\n",
        "print(mean_squared_error(y_test, model.predict(X_test)))"
      ]
    },
    {
      "cell_type": "code",
      "execution_count": null,
      "metadata": {
        "colab": {
          "base_uri": "https://localhost:8080/",
          "height": 74
        },
        "id": "J-_cJ-GY-1A9",
        "outputId": "70efbae5-3303-4cb4-f0af-04adc3e72dc4"
      },
      "outputs": [
        {
          "output_type": "execute_result",
          "data": {
            "text/plain": [
              "LinearRegression()"
            ],
            "text/html": [
              "<style>#sk-container-id-1 {color: black;background-color: white;}#sk-container-id-1 pre{padding: 0;}#sk-container-id-1 div.sk-toggleable {background-color: white;}#sk-container-id-1 label.sk-toggleable__label {cursor: pointer;display: block;width: 100%;margin-bottom: 0;padding: 0.3em;box-sizing: border-box;text-align: center;}#sk-container-id-1 label.sk-toggleable__label-arrow:before {content: \"▸\";float: left;margin-right: 0.25em;color: #696969;}#sk-container-id-1 label.sk-toggleable__label-arrow:hover:before {color: black;}#sk-container-id-1 div.sk-estimator:hover label.sk-toggleable__label-arrow:before {color: black;}#sk-container-id-1 div.sk-toggleable__content {max-height: 0;max-width: 0;overflow: hidden;text-align: left;background-color: #f0f8ff;}#sk-container-id-1 div.sk-toggleable__content pre {margin: 0.2em;color: black;border-radius: 0.25em;background-color: #f0f8ff;}#sk-container-id-1 input.sk-toggleable__control:checked~div.sk-toggleable__content {max-height: 200px;max-width: 100%;overflow: auto;}#sk-container-id-1 input.sk-toggleable__control:checked~label.sk-toggleable__label-arrow:before {content: \"▾\";}#sk-container-id-1 div.sk-estimator input.sk-toggleable__control:checked~label.sk-toggleable__label {background-color: #d4ebff;}#sk-container-id-1 div.sk-label input.sk-toggleable__control:checked~label.sk-toggleable__label {background-color: #d4ebff;}#sk-container-id-1 input.sk-hidden--visually {border: 0;clip: rect(1px 1px 1px 1px);clip: rect(1px, 1px, 1px, 1px);height: 1px;margin: -1px;overflow: hidden;padding: 0;position: absolute;width: 1px;}#sk-container-id-1 div.sk-estimator {font-family: monospace;background-color: #f0f8ff;border: 1px dotted black;border-radius: 0.25em;box-sizing: border-box;margin-bottom: 0.5em;}#sk-container-id-1 div.sk-estimator:hover {background-color: #d4ebff;}#sk-container-id-1 div.sk-parallel-item::after {content: \"\";width: 100%;border-bottom: 1px solid gray;flex-grow: 1;}#sk-container-id-1 div.sk-label:hover label.sk-toggleable__label {background-color: #d4ebff;}#sk-container-id-1 div.sk-serial::before {content: \"\";position: absolute;border-left: 1px solid gray;box-sizing: border-box;top: 0;bottom: 0;left: 50%;z-index: 0;}#sk-container-id-1 div.sk-serial {display: flex;flex-direction: column;align-items: center;background-color: white;padding-right: 0.2em;padding-left: 0.2em;position: relative;}#sk-container-id-1 div.sk-item {position: relative;z-index: 1;}#sk-container-id-1 div.sk-parallel {display: flex;align-items: stretch;justify-content: center;background-color: white;position: relative;}#sk-container-id-1 div.sk-item::before, #sk-container-id-1 div.sk-parallel-item::before {content: \"\";position: absolute;border-left: 1px solid gray;box-sizing: border-box;top: 0;bottom: 0;left: 50%;z-index: -1;}#sk-container-id-1 div.sk-parallel-item {display: flex;flex-direction: column;z-index: 1;position: relative;background-color: white;}#sk-container-id-1 div.sk-parallel-item:first-child::after {align-self: flex-end;width: 50%;}#sk-container-id-1 div.sk-parallel-item:last-child::after {align-self: flex-start;width: 50%;}#sk-container-id-1 div.sk-parallel-item:only-child::after {width: 0;}#sk-container-id-1 div.sk-dashed-wrapped {border: 1px dashed gray;margin: 0 0.4em 0.5em 0.4em;box-sizing: border-box;padding-bottom: 0.4em;background-color: white;}#sk-container-id-1 div.sk-label label {font-family: monospace;font-weight: bold;display: inline-block;line-height: 1.2em;}#sk-container-id-1 div.sk-label-container {text-align: center;}#sk-container-id-1 div.sk-container {/* jupyter's `normalize.less` sets `[hidden] { display: none; }` but bootstrap.min.css set `[hidden] { display: none !important; }` so we also need the `!important` here to be able to override the default hidden behavior on the sphinx rendered scikit-learn.org. See: https://github.com/scikit-learn/scikit-learn/issues/21755 */display: inline-block !important;position: relative;}#sk-container-id-1 div.sk-text-repr-fallback {display: none;}</style><div id=\"sk-container-id-1\" class=\"sk-top-container\"><div class=\"sk-text-repr-fallback\"><pre>LinearRegression()</pre><b>In a Jupyter environment, please rerun this cell to show the HTML representation or trust the notebook. <br />On GitHub, the HTML representation is unable to render, please try loading this page with nbviewer.org.</b></div><div class=\"sk-container\" hidden><div class=\"sk-item\"><div class=\"sk-estimator sk-toggleable\"><input class=\"sk-toggleable__control sk-hidden--visually\" id=\"sk-estimator-id-1\" type=\"checkbox\" checked><label for=\"sk-estimator-id-1\" class=\"sk-toggleable__label sk-toggleable__label-arrow\">LinearRegression</label><div class=\"sk-toggleable__content\"><pre>LinearRegression()</pre></div></div></div></div></div>"
            ]
          },
          "metadata": {},
          "execution_count": 7
        }
      ],
      "source": [
        "model.fit(X_train, y_train)"
      ]
    },
    {
      "cell_type": "code",
      "execution_count": null,
      "metadata": {
        "colab": {
          "base_uri": "https://localhost:8080/"
        },
        "id": "3tUo7hRm-1A-",
        "outputId": "800fcf61-dd1e-436d-bc0a-c7b97ec0ba13"
      },
      "outputs": [
        {
          "output_type": "stream",
          "name": "stdout",
          "text": [
            "0.6140028258130029\n"
          ]
        }
      ],
      "source": [
        "model.fit_intercept = False\n",
        "model.fit(X_train, y_train)\n",
        "\n",
        "print(mean_squared_error(y_test, model.predict(X_test)))"
      ]
    },
    {
      "cell_type": "code",
      "execution_count": null,
      "metadata": {
        "colab": {
          "base_uri": "https://localhost:8080/"
        },
        "id": "w5BVhPPl-1A-",
        "outputId": "0c8bb951-e5fd-4394-9638-cf5c2758b67b"
      },
      "outputs": [
        {
          "output_type": "stream",
          "name": "stdout",
          "text": [
            "0.5361651688109041\n"
          ]
        }
      ],
      "source": [
        "model.fit_intercept = True\n",
        "model.normalize = True\n",
        "model.fit(X_train, y_train)\n",
        "\n",
        "print(mean_squared_error(y_test, model.predict(X_test)))"
      ]
    },
    {
      "cell_type": "code",
      "execution_count": null,
      "metadata": {
        "colab": {
          "base_uri": "https://localhost:8080/"
        },
        "id": "zfOrtCRA-1A_",
        "outputId": "3172503f-1319-49df-bbae-dbedd031dd99"
      },
      "outputs": [
        {
          "output_type": "stream",
          "name": "stdout",
          "text": [
            "0.5361651688109041\n"
          ]
        }
      ],
      "source": [
        "model.normalize = False\n",
        "model.n_jobs = -1\n",
        "model.fit(X_train, y_train)\n",
        "\n",
        "print(mean_squared_error(y_test, model.predict(X_test)))"
      ]
    },
    {
      "cell_type": "markdown",
      "metadata": {
        "id": "0qEZHM4PebbL"
      },
      "source": [
        "2. Попробуйте применить к той же задаче другие модели регрессии. Для каждой из них выведите визуализацию регрессии и оценку точности. Рекомендуется исследовать следующие модели:\n",
        "* Метод опорных векторов\n",
        " - Без ядра\n",
        " - С гауссовым ядром\n",
        " - С полиномиальным ядром\n",
        "* Метод ближайших соседей\n",
        "* Многослойный перцептрон\n",
        "* Дерево решений\n",
        "* Другие методы:\n",
        "  - Гребневую регрессию\n",
        "  - Регрессию Лассо\n",
        "  - Регрессию ElasticNet\n",
        "  - Случайный лес\n",
        "  - Беггинг"
      ]
    },
    {
      "cell_type": "code",
      "execution_count": null,
      "metadata": {
        "id": "2u_x1K35-1BA"
      },
      "outputs": [],
      "source": [
        "models = {\n",
        "    \"Метод опорных векторов без ядра\" : LinearSVR(),\n",
        "    \"Метод опорных векторов с гауссовым ядром\" : SVR(kernel=\"rbf\"),\n",
        "    \"Метод опорных векторов с полиномиальным ядром\" : SVR(kernel=\"poly\"),\n",
        "    \"Метод ближайших соседей\" : KNeighborsRegressor(n_neighbors=5),\n",
        "    \"Многослойный перцептрон\" : MLPRegressor(max_iter=1000),\n",
        "    \"Дерево решений\" : DecisionTreeRegressor(),\n",
        "    \"Гребневую регрессию\" : Ridge(),\n",
        "    \"Регрессию Лассо\" : Lasso(),\n",
        "    \"Регрессию ElasticNet\" : ElasticNet(),\n",
        "    \"Случайный лес\" : RandomForestRegressor(),\n",
        "    \"Беггинг\" : BaggingRegressor(estimator=DecisionTreeRegressor()),\n",
        "}"
      ]
    },
    {
      "cell_type": "code",
      "execution_count": null,
      "metadata": {
        "colab": {
          "base_uri": "https://localhost:8080/"
        },
        "id": "25KE84NOecNI",
        "outputId": "76f5be12-7124-4a2f-e46c-ac517f5068bc"
      },
      "outputs": [
        {
          "output_type": "stream",
          "name": "stdout",
          "text": [
            "Метод опорных векторов без ядра - MSE: 1.2749724763620618\n",
            "Метод опорных векторов с гауссовым ядром - MSE: 1.3892893040167151\n",
            "Метод опорных векторов с полиномиальным ядром - MSE: 1.3976266938552888\n",
            "Метод ближайших соседей - MSE: 1.1663890788383697\n",
            "Многослойный перцептрон - MSE: 23.208884758480842\n",
            "Дерево решений - MSE: 0.5589115253144573\n",
            "Гребневую регрессию - MSE: 0.5361630279678808\n",
            "Регрессию Лассо - MSE: 0.9710837614037965\n",
            "Регрессию ElasticNet - MSE: 0.7817029514425157\n",
            "Случайный лес - MSE: 0.26684308660666095\n",
            "Беггинг - MSE: 0.3010511725502366\n"
          ]
        }
      ],
      "source": [
        "for name in models.keys():\n",
        "    models[name].fit(X_train, y_train)\n",
        "\n",
        "    mse = mean_squared_error(y_test, models[name].predict(X_test))\n",
        "    print(f\"{name} - MSE: {mse}\")\n"
      ]
    },
    {
      "cell_type": "markdown",
      "metadata": {
        "id": "dwoZlG4WigVc"
      },
      "source": [
        "3. Напишите функцию, которая автоматически обучает все перечисленные модели и для каждой выдает оценку точности."
      ]
    },
    {
      "cell_type": "code",
      "execution_count": null,
      "metadata": {
        "colab": {
          "base_uri": "https://localhost:8080/"
        },
        "id": "sh43kkige2dX",
        "outputId": "2f549d17-89fe-4eb1-e07c-492f3fafe963"
      },
      "outputs": [
        {
          "output_type": "stream",
          "name": "stdout",
          "text": [
            "Метод опорных векторов без ядра - Среднеквадратичная ошибка (MSE): 1.8850654386146448\n",
            "Метод опорных векторов с гауссовым ядром - Среднеквадратичная ошибка (MSE): 1.3892893040167151\n",
            "Метод опорных векторов с полиномиальным ядром - Среднеквадратичная ошибка (MSE): 1.3976266938552888\n",
            "Метод ближайших соседей - Среднеквадратичная ошибка (MSE): 1.1663890788383697\n",
            "Многослойный перцептрон - Среднеквадратичная ошибка (MSE): 0.6584883104958089\n",
            "Дерево решений - Среднеквадратичная ошибка (MSE): 0.544131263829593\n",
            "Гребневую регрессию - Среднеквадратичная ошибка (MSE): 0.5361630279678808\n",
            "Регрессию Лассо - Среднеквадратичная ошибка (MSE): 0.9710837614037965\n",
            "Регрессию ElasticNet - Среднеквадратичная ошибка (MSE): 0.7817029514425157\n",
            "Случайный лес - Среднеквадратичная ошибка (MSE): 0.2708894814845475\n",
            "Беггинг - Среднеквадратичная ошибка (MSE): 0.2962528252563091\n"
          ]
        }
      ],
      "source": [
        "def evaluate_models(dataset, models):\n",
        "    X = pd.DataFrame(data=dataset.data, columns=dataset.feature_names)\n",
        "    Y = dataset.target\n",
        "    X_train, X_test, y_train, y_test = train_test_split(X, Y, test_size=0.25, random_state=13)\n",
        "\n",
        "    results = {}\n",
        "    for name in models.keys():\n",
        "        models[name].fit(X_train, y_train)\n",
        "\n",
        "        mse = mean_squared_error(y_test, models[name].predict(X_test))\n",
        "        results[name] = mse\n",
        "\n",
        "    return results\n",
        "\n",
        "model_evaluations = evaluate_models(dataset=fetch_california_housing(), models=models)\n",
        "for model, mse in model_evaluations.items():\n",
        "    print(f\"{model} - Среднеквадратичная ошибка (MSE): {mse}\")"
      ]
    },
    {
      "cell_type": "code",
      "source": [],
      "metadata": {
        "id": "Qa_a24nb-8iA"
      },
      "execution_count": null,
      "outputs": []
    }
  ],
  "metadata": {
    "accelerator": "GPU",
    "colab": {
      "gpuType": "T4",
      "provenance": []
    },
    "kernelspec": {
      "display_name": "Python 3",
      "name": "python3"
    },
    "language_info": {
      "codemirror_mode": {
        "name": "ipython",
        "version": 3
      },
      "file_extension": ".py",
      "mimetype": "text/x-python",
      "name": "python",
      "nbconvert_exporter": "python",
      "pygments_lexer": "ipython3",
      "version": "3.11.5"
    }
  },
  "nbformat": 4,
  "nbformat_minor": 0
}