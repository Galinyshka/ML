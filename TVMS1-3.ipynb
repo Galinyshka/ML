{
 "cells": [
  {
   "cell_type": "markdown",
   "metadata": {},
   "source": [
    "<big>ПМ22-5 Рожкова Галина</big>"
   ]
  },
  {
   "cell_type": "code",
   "execution_count": 1,
   "metadata": {},
   "outputs": [],
   "source": [
    "import numpy as np\n",
    "def rrstr(x,n): # округление до n знаков после запятой\n",
    "    fmt = '{:.'+str(n)+'f}'\n",
    "    return fmt.format(x).replace('.',',')"
   ]
  },
  {
   "cell_type": "code",
   "execution_count": 2,
   "metadata": {},
   "outputs": [],
   "source": [
    "from scipy.stats import *\n",
    "import numpy as np\n",
    "import random\n",
    "import itertools\n",
    "from tqdm import tqdm"
   ]
  },
  {
   "cell_type": "markdown",
   "metadata": {},
   "source": [
    "1. Распределение случайной величины $X$ задано таблицей\n",
    "$$\\begin{array}{|c|c|c|c|c|c|} \n",
    "\\hline\n",
    "X & 2 & 6 & 8 & 10 & 12 \\\\ \n",
    "\\hline\n",
    "P & 0,1 & 0,4 & 0,1 & 0,2 & 0,2 \\\\ \n",
    "\\hline\n",
    "\\end{array}.$$ Пусть $Y$ – такая случайная величина, что $Y=|X-7|$.\n",
    "Найдите:\n",
    "1) математическое ожидание $\\text{E}(X)$;\n",
    "2) математическое ожидание $\\text{E}(Y)$;\n",
    "3) математическое ожидание $\\text{E}(XY)$;\n",
    "4) дисперсию $\\text{V}\\!\\text{ar}(X)$; \n",
    "5) дисперсию $\\text{V}\\!\\text{ar}(Y)$.<br/>"
   ]
  },
  {
   "cell_type": "code",
   "execution_count": 5,
   "metadata": {},
   "outputs": [],
   "source": [
    "x = np.array([2, 6, 8, 10, 12])\n",
    "xp = np.array([0.1, 0.4, 0.1, 0.2, 0.2])\n",
    "X = rv_discrete(values = (x, xp))\n",
    "y = np.abs(x - 7)\n",
    "Y = rv_discrete(values=(y, xp))\n",
    "s = (x + y) ** 2\n",
    "S = rv_discrete(values=(s, xp))\n",
    "xx = x** 2\n",
    "XX = rv_discrete(values=(xx, xp))\n",
    "yy = y** 2\n",
    "YY = rv_discrete(values=(yy, xp))"
   ]
  },
  {
   "cell_type": "code",
   "execution_count": 7,
   "metadata": {},
   "outputs": [
    {
     "name": "stdout",
     "output_type": "stream",
     "text": [
      "E(X) = 7.800000000000001, E(Y) = 2.6, E(XY) = 22.20000000000001, Var(X) = 9.15999999999999, Var(X) = 3.04\n"
     ]
    }
   ],
   "source": [
    "print(f'E(X) = {X.mean()}, E(Y) = {Y.mean()}, E(XY) = {(S.mean() - XX.mean() - YY.mean()) / 2}, Var(X) = {X.var()}, Var(X) = {Y.var()}')"
   ]
  },
  {
   "cell_type": "markdown",
   "metadata": {},
   "source": [
    "2. События $A$, $B$ и $C$ имеют вероятности: $\\text{P}(A)=0,3$, $\\text{P}(B)=0,4$, $\\text{P}(C)=0,3$. \n",
    "Эти события попарно независимы, но все три одновременно наступить не могут.\n",
    "Пусть $X$ – индикатор $A$, $Y$ – индикатор $B$, $Z$ – индикатор $C$, а $U=5X+2Y+3Z$.\n",
    "Найдите:\n",
    "1) математическое ожидание $\\text{E}(U)$;\n",
    "2) дисперсию $\\text{V}\\!\\text{ar}(U)$.<br/>"
   ]
  },
  {
   "cell_type": "code",
   "execution_count": 9,
   "metadata": {},
   "outputs": [],
   "source": [
    "pA = 0.3\n",
    "pB = 0.4\n",
    "pC = 0.3\n",
    "kX = 5\n",
    "kY = 2\n",
    "kZ = 3\n",
    "E = kX * pA + kY * pB + kZ * pC\n",
    "Var = (kX**2) * pA * (1 - pA) + (kY**2) * pB * (1 - pB) + (kZ**2) * pC * (1 - pC)"
   ]
  },
  {
   "cell_type": "code",
   "execution_count": 10,
   "metadata": {},
   "outputs": [
    {
     "name": "stdout",
     "output_type": "stream",
     "text": [
      "E(U) = 3.1999999999999997, Var(U) = 8.1\n"
     ]
    }
   ],
   "source": [
    "print(f'E(U) = {E}, Var(U) = {Var}')"
   ]
  },
  {
   "cell_type": "markdown",
   "metadata": {},
   "source": [
    "3. Внутри квадрата площади 100 расположены треугольник и круг.\n",
    "Площади этих фигур даны: треугольник – 47, круг – 42. Также известно, что\n",
    "площадь пересечения треугольника и круга равна 17. В квадрате случайным независимым образом\n",
    "выбираются точки $\\omega_1,...,\\omega_{3}$. Определим случайные величины:\n",
    "$X_i$ – индикатор попадания $\\omega_i$ в треугольник, $Y_i$ – индикатор попадания $\\omega_i$ в круг,\n",
    "$Z_i=X_i+Y_i$, $i=1,...,3$. Определим также сумму $U=Z_1+...+Z_{3}$ и произведение $V=Z_1 ... Z_{3}$.\n",
    "Найдите:\n",
    "1) математическое ожидание $\\text{E}(U)$;\n",
    "2) дисперсию $\\text{V}\\!\\text{ar}(U)$;\n",
    "3) математическое ожидание $\\text{E}(V)$;\n",
    "4) дисперсию $\\text{V}\\!\\text{ar}(V)$.<br/>"
   ]
  },
  {
   "cell_type": "code",
   "execution_count": 16,
   "metadata": {},
   "outputs": [],
   "source": [
    "S = 100\n",
    "C = 42\n",
    "T = 47\n",
    "CT = 17\n",
    "p = [(S - (C + T - CT))/S, (C - CT + T - CT)/S, CT/S]\n",
    "Z_1 = rv_discrete(values=([0,1,2], p))\n",
    "Z_2 = rv_discrete(values=([0,1,2], p))\n",
    "Z_3 = rv_discrete(values=([0,1,2], p))\n",
    "Eu = Z_1.mean() + Z_2.mean() + Z_3.mean()\n",
    "Varu= Z_1.var() + Z_2.var() + Z_3.var()\n",
    "Ev = Z_1.mean() * Z_2.mean() * Z_3.mean()\n",
    "Varv = (Z_1.var() + (Z_1.mean()) ** 2) * (Z_2.var() + (Z_2.mean()) ** 2) * (Z_3.var() + (Z_3.mean()) ** 2)  - ((Z_1.mean()) * (Z_2.mean()) * (Z_3.mean())) ** 2 "
   ]
  },
  {
   "cell_type": "code",
   "execution_count": 17,
   "metadata": {},
   "outputs": [
    {
     "name": "stdout",
     "output_type": "stream",
     "text": [
      "E(U) = 2.6700000000000004, Var(U) = 1.3136999999999992, E(V) = 0.7049690000000003, Var(V) = 1.3638857090389993 \n"
     ]
    }
   ],
   "source": [
    "print(f'E(U) = {Eu}, Var(U) = {Varu}, E(V) = {Ev}, Var(V) = {Varv} ')"
   ]
  },
  {
   "cell_type": "markdown",
   "metadata": {},
   "source": [
    "4. Доход по типовому контракту (в млн. рублей) описывается дискретной случайной величиной $X$\n",
    "c распределением\n",
    "$$\\begin{array}{|c|c|c|c|c|} \n",
    "\\hline\n",
    "X & 7 & 10 & 14 & 17 & 20 \\\\ \n",
    "\\hline\n",
    "P & 0,1 & ? & 0,2 & 0,4 & 0,1 \\\\  \n",
    "\\hline\n",
    "\\end{array}.$$\n",
    "Фирма заключила $7$ типовых контрактов.\n",
    "Найдите: 1) мат. ожидание и 2) дисперсию среднего арифметического дохода по этим $7$ контрактам, считая\n",
    "доходы независимыми между собой.<br/>"
   ]
  },
  {
   "cell_type": "code",
   "execution_count": 22,
   "metadata": {},
   "outputs": [],
   "source": [
    "X = [7, 10, 14, 17, 20]\n",
    "P = [0.1, 0.2, 0.2, 0.4, 0.1]\n",
    "n = 1/7\n",
    "E4 = sum(X[i]*P[i] for i in range(len(X)))\n",
    "Var4 = (n)*(sum(X[i]**(2)*P[i] for i in range(len(X)))-E_X**2)"
   ]
  },
  {
   "cell_type": "code",
   "execution_count": 23,
   "metadata": {},
   "outputs": [
    {
     "name": "stdout",
     "output_type": "stream",
     "text": [
      "E(X) = 14.3, Var(X) = 2.17285714285714\n"
     ]
    }
   ],
   "source": [
    "print(f'E(X) = {E4}, Var(X) = {Var4}')"
   ]
  },
  {
   "cell_type": "markdown",
   "metadata": {},
   "source": [
    "5. Корзина содержит $46$ шаров, среди которых  $18$ – красных и $6$ – синих. Из корзины, \n",
    "случайным образом, без возвращения извлекаются $11$ шаров. Пусть $X$ и $Y$ обозначают количество \n",
    "красных и синих шаров среди извлеченных, соответственно. Найдите ковариацию $\\text{Cov}(X,Y)$.<br/>"
   ]
  },
  {
   "cell_type": "code",
   "execution_count": null,
   "metadata": {},
   "outputs": [],
   "source": []
  },
  {
   "cell_type": "markdown",
   "metadata": {},
   "source": [
    "6. Математическое ожидание доходности акций компаний А и В составляет $3$% и $4$%, \n",
    "при этом стандартное отклонение доходности равно $4$% и $7$%, соответственно. Также известен \n",
    "коэффициент корреляции $\\rho_{AB}$ доходностей акций А и В, $\\rho_{AB}=0,47$. Найдите (короткие позиции допускаются):\n",
    "1) доли акций А и В в портфеле с минимальной дисперсией доходности;\n",
    "2) ожидаемую доходность и стандартное отклонение доходности такого портфеля. <br/>"
   ]
  },
  {
   "cell_type": "code",
   "execution_count": 24,
   "metadata": {},
   "outputs": [],
   "source": [
    "EA = 0.03\n",
    "EB = 0.04\n",
    "sigA= 0.04\n",
    "sigB=0.07\n",
    "rAB = 0.47\n",
    "a =(sigB**2 - rAB*sigA*sigB)/(sigA**2 + sigB**2 - 2*rAB*sigA*sigB)\n",
    "b = 1 - a"
   ]
  },
  {
   "cell_type": "code",
   "execution_count": 25,
   "metadata": {},
   "outputs": [
    {
     "data": {
      "text/plain": [
       "0.9265770423991727"
      ]
     },
     "execution_count": 25,
     "metadata": {},
     "output_type": "execute_result"
    }
   ],
   "source": [
    "a"
   ]
  },
  {
   "cell_type": "code",
   "execution_count": 26,
   "metadata": {},
   "outputs": [
    {
     "data": {
      "text/plain": [
       "0.07342295760082729"
      ]
     },
     "execution_count": 26,
     "metadata": {},
     "output_type": "execute_result"
    }
   ],
   "source": [
    "b"
   ]
  },
  {
   "cell_type": "code",
   "execution_count": 27,
   "metadata": {},
   "outputs": [
    {
     "data": {
      "text/plain": [
       "3.073422957600827"
      ]
     },
     "execution_count": 27,
     "metadata": {},
     "output_type": "execute_result"
    }
   ],
   "source": [
    "(a*EA+b*EB) * 100"
   ]
  },
  {
   "cell_type": "code",
   "execution_count": 29,
   "metadata": {},
   "outputs": [
    {
     "data": {
      "text/plain": [
       "3.9738493681081635"
      ]
     },
     "execution_count": 29,
     "metadata": {},
     "output_type": "execute_result"
    }
   ],
   "source": [
    "((a**2*sigA**2 + b**2*sigB**2 + 2*a*b*rAB*sigA*sigB)**0.5) * 100"
   ]
  },
  {
   "cell_type": "code",
   "execution_count": null,
   "metadata": {},
   "outputs": [],
   "source": []
  }
 ],
 "metadata": {
  "kernelspec": {
   "display_name": "Python 3 (ipykernel)",
   "language": "python",
   "name": "python3"
  },
  "language_info": {
   "codemirror_mode": {
    "name": "ipython",
    "version": 3
   },
   "file_extension": ".py",
   "mimetype": "text/x-python",
   "name": "python",
   "nbconvert_exporter": "python",
   "pygments_lexer": "ipython3",
   "version": "3.9.13"
  }
 },
 "nbformat": 4,
 "nbformat_minor": 4
}
